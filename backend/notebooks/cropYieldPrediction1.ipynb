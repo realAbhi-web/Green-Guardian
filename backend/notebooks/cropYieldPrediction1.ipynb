{
 "cells": [
  {
   "cell_type": "code",
   "execution_count": 1,
   "id": "6322666e",
   "metadata": {},
   "outputs": [],
   "source": [
    "import pandas as pd\n",
    "import matplotlib.pyplot as plt \n",
    "import seaborn as sns\n",
    "import sklearn as skl\n",
    "import xgboost as xgb\n",
    "import catboost\n",
    "import numpy "
   ]
  },
  {
   "cell_type": "markdown",
   "id": "de1eb223",
   "metadata": {},
   "source": [
    "# Step 1: Load and Understand the Data"
   ]
  },
  {
   "cell_type": "code",
   "execution_count": 2,
   "id": "887c2e70",
   "metadata": {},
   "outputs": [],
   "source": [
    "dataset = pd.read_csv(\"/home/happy/gssoc/AgriTech/Crop Yield Prediction/Datasets/crop_yield.csv\")"
   ]
  },
  {
   "cell_type": "code",
   "execution_count": 3,
   "id": "a2805aba",
   "metadata": {},
   "outputs": [
    {
     "data": {
      "text/plain": [
       "Season\n",
       "Kharif         8232\n",
       "Rabi           5742\n",
       "Whole Year     3717\n",
       "Summer         1195\n",
       "Autumn          414\n",
       "Winter          389\n",
       "Name: count, dtype: int64"
      ]
     },
     "execution_count": 3,
     "metadata": {},
     "output_type": "execute_result"
    }
   ],
   "source": []
  },
  {
   "cell_type": "code",
   "execution_count": 4,
   "id": "0a2b4638",
   "metadata": {},
   "outputs": [
    {
     "data": {
      "text/html": [
       "<div>\n",
       "<style scoped>\n",
       "    .dataframe tbody tr th:only-of-type {\n",
       "        vertical-align: middle;\n",
       "    }\n",
       "\n",
       "    .dataframe tbody tr th {\n",
       "        vertical-align: top;\n",
       "    }\n",
       "\n",
       "    .dataframe thead th {\n",
       "        text-align: right;\n",
       "    }\n",
       "</style>\n",
       "<table border=\"1\" class=\"dataframe\">\n",
       "  <thead>\n",
       "    <tr style=\"text-align: right;\">\n",
       "      <th></th>\n",
       "      <th>Crop</th>\n",
       "      <th>Crop_Year</th>\n",
       "      <th>Season</th>\n",
       "      <th>State</th>\n",
       "      <th>Area</th>\n",
       "      <th>Production</th>\n",
       "      <th>Annual_Rainfall</th>\n",
       "      <th>Fertilizer</th>\n",
       "      <th>Pesticide</th>\n",
       "      <th>Yield</th>\n",
       "    </tr>\n",
       "  </thead>\n",
       "  <tbody>\n",
       "    <tr>\n",
       "      <th>0</th>\n",
       "      <td>Arecanut</td>\n",
       "      <td>1997</td>\n",
       "      <td>Whole Year</td>\n",
       "      <td>Assam</td>\n",
       "      <td>73814.0</td>\n",
       "      <td>56708</td>\n",
       "      <td>2051.4</td>\n",
       "      <td>7024878.38</td>\n",
       "      <td>22882.34</td>\n",
       "      <td>0.796087</td>\n",
       "    </tr>\n",
       "    <tr>\n",
       "      <th>1</th>\n",
       "      <td>Arhar/Tur</td>\n",
       "      <td>1997</td>\n",
       "      <td>Kharif</td>\n",
       "      <td>Assam</td>\n",
       "      <td>6637.0</td>\n",
       "      <td>4685</td>\n",
       "      <td>2051.4</td>\n",
       "      <td>631643.29</td>\n",
       "      <td>2057.47</td>\n",
       "      <td>0.710435</td>\n",
       "    </tr>\n",
       "    <tr>\n",
       "      <th>2</th>\n",
       "      <td>Castor seed</td>\n",
       "      <td>1997</td>\n",
       "      <td>Kharif</td>\n",
       "      <td>Assam</td>\n",
       "      <td>796.0</td>\n",
       "      <td>22</td>\n",
       "      <td>2051.4</td>\n",
       "      <td>75755.32</td>\n",
       "      <td>246.76</td>\n",
       "      <td>0.238333</td>\n",
       "    </tr>\n",
       "    <tr>\n",
       "      <th>3</th>\n",
       "      <td>Coconut</td>\n",
       "      <td>1997</td>\n",
       "      <td>Whole Year</td>\n",
       "      <td>Assam</td>\n",
       "      <td>19656.0</td>\n",
       "      <td>126905000</td>\n",
       "      <td>2051.4</td>\n",
       "      <td>1870661.52</td>\n",
       "      <td>6093.36</td>\n",
       "      <td>5238.051739</td>\n",
       "    </tr>\n",
       "    <tr>\n",
       "      <th>4</th>\n",
       "      <td>Cotton(lint)</td>\n",
       "      <td>1997</td>\n",
       "      <td>Kharif</td>\n",
       "      <td>Assam</td>\n",
       "      <td>1739.0</td>\n",
       "      <td>794</td>\n",
       "      <td>2051.4</td>\n",
       "      <td>165500.63</td>\n",
       "      <td>539.09</td>\n",
       "      <td>0.420909</td>\n",
       "    </tr>\n",
       "    <tr>\n",
       "      <th>5</th>\n",
       "      <td>Dry chillies</td>\n",
       "      <td>1997</td>\n",
       "      <td>Whole Year</td>\n",
       "      <td>Assam</td>\n",
       "      <td>13587.0</td>\n",
       "      <td>9073</td>\n",
       "      <td>2051.4</td>\n",
       "      <td>1293074.79</td>\n",
       "      <td>4211.97</td>\n",
       "      <td>0.643636</td>\n",
       "    </tr>\n",
       "    <tr>\n",
       "      <th>6</th>\n",
       "      <td>Gram</td>\n",
       "      <td>1997</td>\n",
       "      <td>Rabi</td>\n",
       "      <td>Assam</td>\n",
       "      <td>2979.0</td>\n",
       "      <td>1507</td>\n",
       "      <td>2051.4</td>\n",
       "      <td>283511.43</td>\n",
       "      <td>923.49</td>\n",
       "      <td>0.465455</td>\n",
       "    </tr>\n",
       "    <tr>\n",
       "      <th>7</th>\n",
       "      <td>Jute</td>\n",
       "      <td>1997</td>\n",
       "      <td>Kharif</td>\n",
       "      <td>Assam</td>\n",
       "      <td>94520.0</td>\n",
       "      <td>904095</td>\n",
       "      <td>2051.4</td>\n",
       "      <td>8995468.40</td>\n",
       "      <td>29301.20</td>\n",
       "      <td>9.919565</td>\n",
       "    </tr>\n",
       "    <tr>\n",
       "      <th>8</th>\n",
       "      <td>Linseed</td>\n",
       "      <td>1997</td>\n",
       "      <td>Rabi</td>\n",
       "      <td>Assam</td>\n",
       "      <td>10098.0</td>\n",
       "      <td>5158</td>\n",
       "      <td>2051.4</td>\n",
       "      <td>961026.66</td>\n",
       "      <td>3130.38</td>\n",
       "      <td>0.461364</td>\n",
       "    </tr>\n",
       "    <tr>\n",
       "      <th>9</th>\n",
       "      <td>Maize</td>\n",
       "      <td>1997</td>\n",
       "      <td>Kharif</td>\n",
       "      <td>Assam</td>\n",
       "      <td>19216.0</td>\n",
       "      <td>14721</td>\n",
       "      <td>2051.4</td>\n",
       "      <td>1828786.72</td>\n",
       "      <td>5956.96</td>\n",
       "      <td>0.615652</td>\n",
       "    </tr>\n",
       "  </tbody>\n",
       "</table>\n",
       "</div>"
      ],
      "text/plain": [
       "           Crop  Crop_Year       Season  State     Area  Production  \\\n",
       "0      Arecanut       1997  Whole Year   Assam  73814.0       56708   \n",
       "1     Arhar/Tur       1997  Kharif       Assam   6637.0        4685   \n",
       "2   Castor seed       1997  Kharif       Assam    796.0          22   \n",
       "3      Coconut        1997  Whole Year   Assam  19656.0   126905000   \n",
       "4  Cotton(lint)       1997  Kharif       Assam   1739.0         794   \n",
       "5  Dry chillies       1997  Whole Year   Assam  13587.0        9073   \n",
       "6          Gram       1997  Rabi         Assam   2979.0        1507   \n",
       "7          Jute       1997  Kharif       Assam  94520.0      904095   \n",
       "8       Linseed       1997  Rabi         Assam  10098.0        5158   \n",
       "9         Maize       1997  Kharif       Assam  19216.0       14721   \n",
       "\n",
       "   Annual_Rainfall  Fertilizer  Pesticide        Yield  \n",
       "0           2051.4  7024878.38   22882.34     0.796087  \n",
       "1           2051.4   631643.29    2057.47     0.710435  \n",
       "2           2051.4    75755.32     246.76     0.238333  \n",
       "3           2051.4  1870661.52    6093.36  5238.051739  \n",
       "4           2051.4   165500.63     539.09     0.420909  \n",
       "5           2051.4  1293074.79    4211.97     0.643636  \n",
       "6           2051.4   283511.43     923.49     0.465455  \n",
       "7           2051.4  8995468.40   29301.20     9.919565  \n",
       "8           2051.4   961026.66    3130.38     0.461364  \n",
       "9           2051.4  1828786.72    5956.96     0.615652  "
      ]
     },
     "execution_count": 4,
     "metadata": {},
     "output_type": "execute_result"
    }
   ],
   "source": [
    "dataset.head(10)"
   ]
  },
  {
   "cell_type": "code",
   "execution_count": 5,
   "id": "ba2ca24f",
   "metadata": {},
   "outputs": [
    {
     "data": {
      "text/plain": [
       "Crop               0\n",
       "Crop_Year          0\n",
       "Season             0\n",
       "State              0\n",
       "Area               0\n",
       "Production         0\n",
       "Annual_Rainfall    0\n",
       "Fertilizer         0\n",
       "Pesticide          0\n",
       "Yield              0\n",
       "dtype: int64"
      ]
     },
     "execution_count": 5,
     "metadata": {},
     "output_type": "execute_result"
    }
   ],
   "source": [
    "dataset.isnull().sum()"
   ]
  },
  {
   "cell_type": "code",
   "execution_count": 6,
   "id": "323bc717",
   "metadata": {},
   "outputs": [
    {
     "name": "stdout",
     "output_type": "stream",
     "text": [
      "<class 'pandas.core.frame.DataFrame'>\n",
      "RangeIndex: 19689 entries, 0 to 19688\n",
      "Data columns (total 10 columns):\n",
      " #   Column           Non-Null Count  Dtype  \n",
      "---  ------           --------------  -----  \n",
      " 0   Crop             19689 non-null  object \n",
      " 1   Crop_Year        19689 non-null  int64  \n",
      " 2   Season           19689 non-null  object \n",
      " 3   State            19689 non-null  object \n",
      " 4   Area             19689 non-null  float64\n",
      " 5   Production       19689 non-null  int64  \n",
      " 6   Annual_Rainfall  19689 non-null  float64\n",
      " 7   Fertilizer       19689 non-null  float64\n",
      " 8   Pesticide        19689 non-null  float64\n",
      " 9   Yield            19689 non-null  float64\n",
      "dtypes: float64(5), int64(2), object(3)\n",
      "memory usage: 1.5+ MB\n"
     ]
    }
   ],
   "source": [
    "dataset.info()"
   ]
  },
  {
   "cell_type": "code",
   "execution_count": 7,
   "id": "a57962ed",
   "metadata": {},
   "outputs": [
    {
     "data": {
      "text/html": [
       "<div>\n",
       "<style scoped>\n",
       "    .dataframe tbody tr th:only-of-type {\n",
       "        vertical-align: middle;\n",
       "    }\n",
       "\n",
       "    .dataframe tbody tr th {\n",
       "        vertical-align: top;\n",
       "    }\n",
       "\n",
       "    .dataframe thead th {\n",
       "        text-align: right;\n",
       "    }\n",
       "</style>\n",
       "<table border=\"1\" class=\"dataframe\">\n",
       "  <thead>\n",
       "    <tr style=\"text-align: right;\">\n",
       "      <th></th>\n",
       "      <th>Crop_Year</th>\n",
       "      <th>Area</th>\n",
       "      <th>Production</th>\n",
       "      <th>Annual_Rainfall</th>\n",
       "      <th>Fertilizer</th>\n",
       "      <th>Pesticide</th>\n",
       "      <th>Yield</th>\n",
       "    </tr>\n",
       "  </thead>\n",
       "  <tbody>\n",
       "    <tr>\n",
       "      <th>count</th>\n",
       "      <td>19689.000000</td>\n",
       "      <td>1.968900e+04</td>\n",
       "      <td>1.968900e+04</td>\n",
       "      <td>19689.000000</td>\n",
       "      <td>1.968900e+04</td>\n",
       "      <td>1.968900e+04</td>\n",
       "      <td>19689.000000</td>\n",
       "    </tr>\n",
       "    <tr>\n",
       "      <th>mean</th>\n",
       "      <td>2009.127584</td>\n",
       "      <td>1.799266e+05</td>\n",
       "      <td>1.643594e+07</td>\n",
       "      <td>1437.755177</td>\n",
       "      <td>2.410331e+07</td>\n",
       "      <td>4.884835e+04</td>\n",
       "      <td>79.954009</td>\n",
       "    </tr>\n",
       "    <tr>\n",
       "      <th>std</th>\n",
       "      <td>6.498099</td>\n",
       "      <td>7.328287e+05</td>\n",
       "      <td>2.630568e+08</td>\n",
       "      <td>816.909589</td>\n",
       "      <td>9.494600e+07</td>\n",
       "      <td>2.132874e+05</td>\n",
       "      <td>878.306193</td>\n",
       "    </tr>\n",
       "    <tr>\n",
       "      <th>min</th>\n",
       "      <td>1997.000000</td>\n",
       "      <td>5.000000e-01</td>\n",
       "      <td>0.000000e+00</td>\n",
       "      <td>301.300000</td>\n",
       "      <td>5.417000e+01</td>\n",
       "      <td>9.000000e-02</td>\n",
       "      <td>0.000000</td>\n",
       "    </tr>\n",
       "    <tr>\n",
       "      <th>25%</th>\n",
       "      <td>2004.000000</td>\n",
       "      <td>1.390000e+03</td>\n",
       "      <td>1.393000e+03</td>\n",
       "      <td>940.700000</td>\n",
       "      <td>1.880146e+05</td>\n",
       "      <td>3.567000e+02</td>\n",
       "      <td>0.600000</td>\n",
       "    </tr>\n",
       "    <tr>\n",
       "      <th>50%</th>\n",
       "      <td>2010.000000</td>\n",
       "      <td>9.317000e+03</td>\n",
       "      <td>1.380400e+04</td>\n",
       "      <td>1247.600000</td>\n",
       "      <td>1.234957e+06</td>\n",
       "      <td>2.421900e+03</td>\n",
       "      <td>1.030000</td>\n",
       "    </tr>\n",
       "    <tr>\n",
       "      <th>75%</th>\n",
       "      <td>2015.000000</td>\n",
       "      <td>7.511200e+04</td>\n",
       "      <td>1.227180e+05</td>\n",
       "      <td>1643.700000</td>\n",
       "      <td>1.000385e+07</td>\n",
       "      <td>2.004170e+04</td>\n",
       "      <td>2.388889</td>\n",
       "    </tr>\n",
       "    <tr>\n",
       "      <th>max</th>\n",
       "      <td>2020.000000</td>\n",
       "      <td>5.080810e+07</td>\n",
       "      <td>6.326000e+09</td>\n",
       "      <td>6552.700000</td>\n",
       "      <td>4.835407e+09</td>\n",
       "      <td>1.575051e+07</td>\n",
       "      <td>21105.000000</td>\n",
       "    </tr>\n",
       "  </tbody>\n",
       "</table>\n",
       "</div>"
      ],
      "text/plain": [
       "          Crop_Year          Area    Production  Annual_Rainfall  \\\n",
       "count  19689.000000  1.968900e+04  1.968900e+04     19689.000000   \n",
       "mean    2009.127584  1.799266e+05  1.643594e+07      1437.755177   \n",
       "std        6.498099  7.328287e+05  2.630568e+08       816.909589   \n",
       "min     1997.000000  5.000000e-01  0.000000e+00       301.300000   \n",
       "25%     2004.000000  1.390000e+03  1.393000e+03       940.700000   \n",
       "50%     2010.000000  9.317000e+03  1.380400e+04      1247.600000   \n",
       "75%     2015.000000  7.511200e+04  1.227180e+05      1643.700000   \n",
       "max     2020.000000  5.080810e+07  6.326000e+09      6552.700000   \n",
       "\n",
       "         Fertilizer     Pesticide         Yield  \n",
       "count  1.968900e+04  1.968900e+04  19689.000000  \n",
       "mean   2.410331e+07  4.884835e+04     79.954009  \n",
       "std    9.494600e+07  2.132874e+05    878.306193  \n",
       "min    5.417000e+01  9.000000e-02      0.000000  \n",
       "25%    1.880146e+05  3.567000e+02      0.600000  \n",
       "50%    1.234957e+06  2.421900e+03      1.030000  \n",
       "75%    1.000385e+07  2.004170e+04      2.388889  \n",
       "max    4.835407e+09  1.575051e+07  21105.000000  "
      ]
     },
     "execution_count": 7,
     "metadata": {},
     "output_type": "execute_result"
    }
   ],
   "source": [
    "dataset.describe()"
   ]
  },
  {
   "cell_type": "markdown",
   "id": "650b40fb",
   "metadata": {},
   "source": [
    "# Step 2: Encode Categorical Features"
   ]
  },
  {
   "cell_type": "code",
   "execution_count": 8,
   "id": "982e38c3",
   "metadata": {},
   "outputs": [],
   "source": [
    "# Example: Encoding categorical columns if any exist\n",
    "from sklearn.preprocessing import LabelEncoder\n",
    "\n",
    "# Identify categorical columns\n",
    "categorical_cols = dataset.select_dtypes(include=['object']).columns\n",
    "\n",
    "# Apply Label Encoding (or One-Hot Encoding)\n",
    "label_encoders = {}\n",
    "for col in categorical_cols:\n",
    "    le = LabelEncoder()\n",
    "    dataset[col] = le.fit_transform(dataset[col])\n",
    "    label_encoders[col] = le\n"
   ]
  },
  {
   "cell_type": "code",
   "execution_count": 9,
   "id": "55c5d4d4",
   "metadata": {},
   "outputs": [
    {
     "name": "stdout",
     "output_type": "stream",
     "text": [
      "Column: Crop\n",
      "  Arecanut --> 0\n",
      "  Arhar/Tur --> 1\n",
      "  Bajra --> 2\n",
      "  Banana --> 3\n",
      "  Barley --> 4\n",
      "  Black pepper --> 5\n",
      "  Cardamom --> 6\n",
      "  Cashewnut --> 7\n",
      "  Castor seed --> 8\n",
      "  Coconut  --> 9\n",
      "  Coriander --> 10\n",
      "  Cotton(lint) --> 11\n",
      "  Cowpea(Lobia) --> 12\n",
      "  Dry chillies --> 13\n",
      "  Garlic --> 14\n",
      "  Ginger --> 15\n",
      "  Gram --> 16\n",
      "  Groundnut --> 17\n",
      "  Guar seed --> 18\n",
      "  Horse-gram --> 19\n",
      "  Jowar --> 20\n",
      "  Jute --> 21\n",
      "  Khesari --> 22\n",
      "  Linseed --> 23\n",
      "  Maize --> 24\n",
      "  Masoor --> 25\n",
      "  Mesta --> 26\n",
      "  Moong(Green Gram) --> 27\n",
      "  Moth --> 28\n",
      "  Niger seed --> 29\n",
      "  Oilseeds total --> 30\n",
      "  Onion --> 31\n",
      "  Other  Rabi pulses --> 32\n",
      "  Other Cereals --> 33\n",
      "  Other Kharif pulses --> 34\n",
      "  Other Summer Pulses --> 35\n",
      "  Peas & beans (Pulses) --> 36\n",
      "  Potato --> 37\n",
      "  Ragi --> 38\n",
      "  Rapeseed &Mustard --> 39\n",
      "  Rice --> 40\n",
      "  Safflower --> 41\n",
      "  Sannhamp --> 42\n",
      "  Sesamum --> 43\n",
      "  Small millets --> 44\n",
      "  Soyabean --> 45\n",
      "  Sugarcane --> 46\n",
      "  Sunflower --> 47\n",
      "  Sweet potato --> 48\n",
      "  Tapioca --> 49\n",
      "  Tobacco --> 50\n",
      "  Turmeric --> 51\n",
      "  Urad --> 52\n",
      "  Wheat --> 53\n",
      "  other oilseeds --> 54\n",
      "------------------------------\n",
      "Column: Season\n",
      "  Autumn      --> 0\n",
      "  Kharif      --> 1\n",
      "  Rabi        --> 2\n",
      "  Summer      --> 3\n",
      "  Whole Year  --> 4\n",
      "  Winter      --> 5\n",
      "------------------------------\n",
      "Column: State\n",
      "  Andhra Pradesh --> 0\n",
      "  Arunachal Pradesh --> 1\n",
      "  Assam --> 2\n",
      "  Bihar --> 3\n",
      "  Chhattisgarh --> 4\n",
      "  Delhi --> 5\n",
      "  Goa --> 6\n",
      "  Gujarat --> 7\n",
      "  Haryana --> 8\n",
      "  Himachal Pradesh --> 9\n",
      "  Jammu and Kashmir --> 10\n",
      "  Jharkhand --> 11\n",
      "  Karnataka --> 12\n",
      "  Kerala --> 13\n",
      "  Madhya Pradesh --> 14\n",
      "  Maharashtra --> 15\n",
      "  Manipur --> 16\n",
      "  Meghalaya --> 17\n",
      "  Mizoram --> 18\n",
      "  Nagaland --> 19\n",
      "  Odisha --> 20\n",
      "  Puducherry --> 21\n",
      "  Punjab --> 22\n",
      "  Sikkim --> 23\n",
      "  Tamil Nadu --> 24\n",
      "  Telangana --> 25\n",
      "  Tripura --> 26\n",
      "  Uttar Pradesh --> 27\n",
      "  Uttarakhand --> 28\n",
      "  West Bengal --> 29\n",
      "------------------------------\n"
     ]
    }
   ],
   "source": [
    "for col, le in label_encoders.items():\n",
    "    print(f\"Column: {col}\")\n",
    "    for class_label, encoded_value in zip(le.classes_, le.transform(le.classes_)):\n",
    "        print(f\"  {class_label} --> {encoded_value}\")\n",
    "    print(\"-\" * 30)\n"
   ]
  },
  {
   "cell_type": "code",
   "execution_count": 10,
   "id": "75c46461",
   "metadata": {},
   "outputs": [
    {
     "data": {
      "text/html": [
       "<div>\n",
       "<style scoped>\n",
       "    .dataframe tbody tr th:only-of-type {\n",
       "        vertical-align: middle;\n",
       "    }\n",
       "\n",
       "    .dataframe tbody tr th {\n",
       "        vertical-align: top;\n",
       "    }\n",
       "\n",
       "    .dataframe thead th {\n",
       "        text-align: right;\n",
       "    }\n",
       "</style>\n",
       "<table border=\"1\" class=\"dataframe\">\n",
       "  <thead>\n",
       "    <tr style=\"text-align: right;\">\n",
       "      <th></th>\n",
       "      <th>Crop</th>\n",
       "      <th>Crop_Year</th>\n",
       "      <th>Season</th>\n",
       "      <th>State</th>\n",
       "      <th>Area</th>\n",
       "      <th>Production</th>\n",
       "      <th>Annual_Rainfall</th>\n",
       "      <th>Fertilizer</th>\n",
       "      <th>Pesticide</th>\n",
       "      <th>Yield</th>\n",
       "    </tr>\n",
       "  </thead>\n",
       "  <tbody>\n",
       "    <tr>\n",
       "      <th>0</th>\n",
       "      <td>0</td>\n",
       "      <td>1997</td>\n",
       "      <td>4</td>\n",
       "      <td>2</td>\n",
       "      <td>73814.0</td>\n",
       "      <td>56708</td>\n",
       "      <td>2051.4</td>\n",
       "      <td>7024878.38</td>\n",
       "      <td>22882.34</td>\n",
       "      <td>0.796087</td>\n",
       "    </tr>\n",
       "    <tr>\n",
       "      <th>1</th>\n",
       "      <td>1</td>\n",
       "      <td>1997</td>\n",
       "      <td>1</td>\n",
       "      <td>2</td>\n",
       "      <td>6637.0</td>\n",
       "      <td>4685</td>\n",
       "      <td>2051.4</td>\n",
       "      <td>631643.29</td>\n",
       "      <td>2057.47</td>\n",
       "      <td>0.710435</td>\n",
       "    </tr>\n",
       "    <tr>\n",
       "      <th>2</th>\n",
       "      <td>8</td>\n",
       "      <td>1997</td>\n",
       "      <td>1</td>\n",
       "      <td>2</td>\n",
       "      <td>796.0</td>\n",
       "      <td>22</td>\n",
       "      <td>2051.4</td>\n",
       "      <td>75755.32</td>\n",
       "      <td>246.76</td>\n",
       "      <td>0.238333</td>\n",
       "    </tr>\n",
       "    <tr>\n",
       "      <th>3</th>\n",
       "      <td>9</td>\n",
       "      <td>1997</td>\n",
       "      <td>4</td>\n",
       "      <td>2</td>\n",
       "      <td>19656.0</td>\n",
       "      <td>126905000</td>\n",
       "      <td>2051.4</td>\n",
       "      <td>1870661.52</td>\n",
       "      <td>6093.36</td>\n",
       "      <td>5238.051739</td>\n",
       "    </tr>\n",
       "    <tr>\n",
       "      <th>4</th>\n",
       "      <td>11</td>\n",
       "      <td>1997</td>\n",
       "      <td>1</td>\n",
       "      <td>2</td>\n",
       "      <td>1739.0</td>\n",
       "      <td>794</td>\n",
       "      <td>2051.4</td>\n",
       "      <td>165500.63</td>\n",
       "      <td>539.09</td>\n",
       "      <td>0.420909</td>\n",
       "    </tr>\n",
       "  </tbody>\n",
       "</table>\n",
       "</div>"
      ],
      "text/plain": [
       "   Crop  Crop_Year  Season  State     Area  Production  Annual_Rainfall  \\\n",
       "0     0       1997       4      2  73814.0       56708           2051.4   \n",
       "1     1       1997       1      2   6637.0        4685           2051.4   \n",
       "2     8       1997       1      2    796.0          22           2051.4   \n",
       "3     9       1997       4      2  19656.0   126905000           2051.4   \n",
       "4    11       1997       1      2   1739.0         794           2051.4   \n",
       "\n",
       "   Fertilizer  Pesticide        Yield  \n",
       "0  7024878.38   22882.34     0.796087  \n",
       "1   631643.29    2057.47     0.710435  \n",
       "2    75755.32     246.76     0.238333  \n",
       "3  1870661.52    6093.36  5238.051739  \n",
       "4   165500.63     539.09     0.420909  "
      ]
     },
     "execution_count": 10,
     "metadata": {},
     "output_type": "execute_result"
    }
   ],
   "source": [
    "dataset.head(5)"
   ]
  },
  {
   "cell_type": "markdown",
   "id": "41710262",
   "metadata": {},
   "source": [
    "# Step 3: Feature and Target Separation"
   ]
  },
  {
   "cell_type": "code",
   "execution_count": 11,
   "id": "2afeb67b",
   "metadata": {},
   "outputs": [
    {
     "name": "stdout",
     "output_type": "stream",
     "text": [
      "<class 'pandas.core.frame.DataFrame'>\n",
      "RangeIndex: 19689 entries, 0 to 19688\n",
      "Data columns (total 10 columns):\n",
      " #   Column           Non-Null Count  Dtype  \n",
      "---  ------           --------------  -----  \n",
      " 0   Crop             19689 non-null  int64  \n",
      " 1   Crop_Year        19689 non-null  int64  \n",
      " 2   Season           19689 non-null  int64  \n",
      " 3   State            19689 non-null  int64  \n",
      " 4   Area             19689 non-null  float64\n",
      " 5   Production       19689 non-null  int64  \n",
      " 6   Annual_Rainfall  19689 non-null  float64\n",
      " 7   Fertilizer       19689 non-null  float64\n",
      " 8   Pesticide        19689 non-null  float64\n",
      " 9   Yield            19689 non-null  float64\n",
      "dtypes: float64(5), int64(5)\n",
      "memory usage: 1.5 MB\n",
      "None\n"
     ]
    }
   ],
   "source": [
    "print(dataset.info())"
   ]
  },
  {
   "cell_type": "code",
   "execution_count": 12,
   "id": "6bfd04f9",
   "metadata": {},
   "outputs": [],
   "source": [
    "X = dataset.iloc[:, :9]\n",
    "Y = dataset[\"Yield\"]\n",
    "Y = pd.DataFrame(Y)"
   ]
  },
  {
   "cell_type": "code",
   "execution_count": null,
   "id": "16b5468c",
   "metadata": {},
   "outputs": [],
   "source": []
  },
  {
   "cell_type": "code",
   "execution_count": null,
   "id": "a848b497",
   "metadata": {},
   "outputs": [],
   "source": []
  },
  {
   "cell_type": "markdown",
   "id": "9a25daf1",
   "metadata": {},
   "source": [
    "# Step 4: Feature Scaling"
   ]
  },
  {
   "cell_type": "code",
   "execution_count": 13,
   "id": "e79a76da",
   "metadata": {},
   "outputs": [],
   "source": [
    "from sklearn.preprocessing import StandardScaler\n",
    "\n",
    "scaler = StandardScaler()\n",
    "X_scaled = scaler.fit_transform(X)\n",
    "# added scaled data to a dataframe\n",
    "X_scaled = pd.DataFrame(X_scaled,columns=X.columns)"
   ]
  },
  {
   "cell_type": "code",
   "execution_count": null,
   "id": "0feb40a6",
   "metadata": {},
   "outputs": [],
   "source": []
  },
  {
   "cell_type": "markdown",
   "id": "2c443c67",
   "metadata": {},
   "source": [
    "# Step 5: Train-Test Split"
   ]
  },
  {
   "cell_type": "code",
   "execution_count": 14,
   "id": "49c2b94b",
   "metadata": {},
   "outputs": [],
   "source": [
    "from sklearn.model_selection import train_test_split\n",
    "x_train, x_test, y_train, y_test = train_test_split(X_scaled, Y, random_state = 42, test_size = 0.2)"
   ]
  },
  {
   "cell_type": "code",
   "execution_count": null,
   "id": "2a70853d",
   "metadata": {},
   "outputs": [],
   "source": []
  },
  {
   "cell_type": "markdown",
   "id": "14074e17",
   "metadata": {},
   "source": [
    "# Step 6: Visualize Feature Correlations"
   ]
  },
  {
   "cell_type": "code",
   "execution_count": 15,
   "id": "677a10ad",
   "metadata": {},
   "outputs": [
    {
     "data": {
      "image/png": "[encoded data removed]",
      "text/plain": [
       "<Figure size 800x700 with 2 Axes>"
      ]
     },
     "metadata": {},
     "output_type": "display_data"
    }
   ],
   "source": [
    "# Only for numerical features\n",
    "#performing Pearson correlation test on only x_train data to avoid data leakage and fair practice\n",
    "plt.figure(figsize=(8, 7))\n",
    "cor = x_train.corr()\n",
    "sns.heatmap(cor, annot=True, cmap='coolwarm')\n",
    "plt.title(\"Feature Correlation Matrix\")\n",
    "plt.show()\n"
   ]
  },
  {
   "cell_type": "code",
   "execution_count": 16,
   "id": "b21f079f",
   "metadata": {},
   "outputs": [],
   "source": [
    "#removing one of the highly correleted feature columns to avoid risk of duplicate input\n",
    "def correlation(dataset, threshold):\n",
    "  col_corr = set()\n",
    "  corr_matrix = dataset.corr()\n",
    "  for i in range(len(corr_matrix.columns)):\n",
    "    for j in range(i):\n",
    "      if corr_matrix.iloc[i, j] > threshold:\n",
    "        colname = corr_matrix.columns[i]\n",
    "        col_corr.add(colname)\n",
    "  return col_corr"
   ]
  },
  {
   "cell_type": "code",
   "execution_count": 17,
   "id": "23afc9f0",
   "metadata": {},
   "outputs": [
    {
     "name": "stdout",
     "output_type": "stream",
     "text": [
      "{'Fertilizer', 'Pesticide'}\n"
     ]
    }
   ],
   "source": [
    "corr_features = correlation(x_train, 0.8)\n",
    "print(corr_features)"
   ]
  },
  {
   "cell_type": "code",
   "execution_count": 18,
   "id": "c3cacde5",
   "metadata": {},
   "outputs": [],
   "source": [
    "#check correlation with target variable\n",
    "corr_target = x_train.corrwith(y_train)\n",
    "#both fertilizer and pesticide have very low correlation with target variable , almost to the level of noise.\n",
    "#Hence, dropping both the feature columns\n",
    "x_train.drop([\"Pesticide\",\"Fertilizer\"],axis=1,inplace=True)\n",
    "x_test.drop([\"Pesticide\",\"Fertilizer\"],axis=1,inplace=True)"
   ]
  },
  {
   "cell_type": "markdown",
   "id": "fb533484",
   "metadata": {},
   "source": [
    "# Apply StandardScaler"
   ]
  },
  {
   "cell_type": "code",
   "execution_count": 15,
   "id": "38970c2e",
   "metadata": {},
   "outputs": [
    {
     "data": {
      "text/plain": [
       "'from sklearn.preprocessing import StandardScaler\\n\\nscaler = StandardScaler()\\n\\n# Fit only on training data to avoid data leakage\\nX_train_scaled = scaler.fit_transform(x_train)\\nX_test_scaled = scaler.transform(x_test)\\n'"
      ]
     },
     "execution_count": 15,
     "metadata": {},
     "output_type": "execute_result"
    }
   ],
   "source": [
    "'''from sklearn.preprocessing import StandardScaler\n",
    "\n",
    "scaler = StandardScaler()\n",
    "\n",
    "# Fit only on training data to avoid data leakage\n",
    "X_train_scaled = scaler.fit_transform(x_train)\n",
    "X_test_scaled = scaler.transform(x_test)\n",
    "'''"
   ]
  },
  {
   "cell_type": "markdown",
   "id": "bfbc7488",
   "metadata": {},
   "source": [
    "# Support Vector Machine"
   ]
  },
  {
   "cell_type": "code",
   "execution_count": 16,
   "id": "6ac53ef6",
   "metadata": {},
   "outputs": [
    {
     "data": {
      "text/plain": [
       "'from mlxtend.plotting import plot_decision_regions'"
      ]
     },
     "execution_count": 16,
     "metadata": {},
     "output_type": "execute_result"
    }
   ],
   "source": [
    "'''from mlxtend.plotting import plot_decision_regions'''"
   ]
  },
  {
   "cell_type": "code",
   "execution_count": 17,
   "id": "fff9402a",
   "metadata": {},
   "outputs": [
    {
     "data": {
      "text/plain": [
       "'from sklearn.svm import SVR\\n\\nsvr = SVR(kernel=\\'rbf\\')  # You can tune C, epsilon later\\nsvr.fit(X_train_scaled, y_train)\\n\\nprint(\"Training R² Score:\", svr.score(X_train_scaled, y_train))\\nprint(\"Testing R² Score:\", svr.score(X_test_scaled, y_test))\\n'"
      ]
     },
     "execution_count": 17,
     "metadata": {},
     "output_type": "execute_result"
    }
   ],
   "source": [
    "'''from sklearn.svm import SVR\n",
    "\n",
    "svr = SVR(kernel='rbf')  # You can tune C, epsilon later\n",
    "svr.fit(X_train_scaled, y_train)\n",
    "\n",
    "print(\"Training R² Score:\", svr.score(X_train_scaled, y_train))\n",
    "print(\"Testing R² Score:\", svr.score(X_test_scaled, y_test))\n",
    "'''"
   ]
  },
  {
   "cell_type": "markdown",
   "id": "5a96336d",
   "metadata": {},
   "source": [
    "Cross validation\n"
   ]
  },
  {
   "cell_type": "code",
   "execution_count": 18,
   "id": "45ba852c",
   "metadata": {},
   "outputs": [
    {
     "data": {
      "text/plain": [
       "'from sklearn.model_selection import cross_val_score\\np = cross_val_score(SVR(), X, Y, cv = 5)'"
      ]
     },
     "execution_count": 18,
     "metadata": {},
     "output_type": "execute_result"
    }
   ],
   "source": [
    "'''from sklearn.model_selection import cross_val_score\n",
    "p = cross_val_score(SVR(), X, Y, cv = 5)'''"
   ]
  },
  {
   "cell_type": "code",
   "execution_count": 19,
   "id": "546404a6",
   "metadata": {},
   "outputs": [
    {
     "data": {
      "text/plain": [
       "'p.sort()\\np*100'"
      ]
     },
     "execution_count": 19,
     "metadata": {},
     "output_type": "execute_result"
    }
   ],
   "source": [
    "'''p.sort()\n",
    "p*100'''"
   ]
  },
  {
   "cell_type": "markdown",
   "id": "03abe3d5",
   "metadata": {},
   "source": [
    "Support Vector Machine can't be use as it is showing poor score"
   ]
  },
  {
   "cell_type": "markdown",
   "id": "6e8153ef",
   "metadata": {},
   "source": [
    "# Random Forest Regressor"
   ]
  },
  {
   "cell_type": "code",
   "execution_count": 20,
   "id": "20fd4282",
   "metadata": {},
   "outputs": [
    {
     "data": {
      "text/plain": [
       "'from sklearn.ensemble import RandomForestRegressor\\nfrom sklearn.metrics import mean_squared_error, r2_score\\n\\n# Initialize and train model\\nrf_model = RandomForestRegressor(n_estimators=100, random_state=42)\\nrf_model.fit(x_train, y_train)\\n\\n# Predict\\ny_pred = rf_model.predict(x_test)\\n\\n# Evaluate\\nprint(\"R² Score:\", r2_score(y_test, y_pred))\\nprint(\"Mean Squared Error:\", mean_squared_error(y_test, y_pred))\\n'"
      ]
     },
     "execution_count": 20,
     "metadata": {},
     "output_type": "execute_result"
    }
   ],
   "source": [
    "'''from sklearn.ensemble import RandomForestRegressor\n",
    "from sklearn.metrics import mean_squared_error, r2_score\n",
    "\n",
    "# Initialize and train model\n",
    "rf_model = RandomForestRegressor(n_estimators=100, random_state=42)\n",
    "rf_model.fit(x_train, y_train)\n",
    "\n",
    "# Predict\n",
    "y_pred = rf_model.predict(x_test)\n",
    "\n",
    "# Evaluate\n",
    "print(\"R² Score:\", r2_score(y_test, y_pred))\n",
    "print(\"Mean Squared Error:\", mean_squared_error(y_test, y_pred))\n",
    "'''"
   ]
  },
  {
   "cell_type": "markdown",
   "id": "5940f148",
   "metadata": {},
   "source": [
    "Residuals vs Predicted"
   ]
  },
  {
   "cell_type": "code",
   "execution_count": 23,
   "id": "95415279",
   "metadata": {},
   "outputs": [],
   "source": [
    "# residuals = y_test - y_pred\n"
   ]
  },
  {
   "cell_type": "code",
   "execution_count": 24,
   "id": "6501afe9",
   "metadata": {},
   "outputs": [
    {
     "data": {
      "text/plain": [
       "'import matplotlib.pyplot as plt\\n\\nplt.figure(figsize=(8, 6))\\nplt.scatter(y_pred, residuals, alpha=0.6)\\nplt.axhline(y=0, color=\\'red\\', linestyle=\\'--\\')  # Zero error line\\nplt.xlabel(\"Predicted Values\")\\nplt.ylabel(\"Residuals\")\\nplt.title(\"Residuals vs Predicted Values\")\\nplt.grid(True)\\nplt.show()\\n'"
      ]
     },
     "execution_count": 24,
     "metadata": {},
     "output_type": "execute_result"
    }
   ],
   "source": [
    "'''import matplotlib.pyplot as plt\n",
    "\n",
    "plt.figure(figsize=(8, 6))\n",
    "plt.scatter(y_pred, residuals, alpha=0.6)\n",
    "plt.axhline(y=0, color='red', linestyle='--')  # Zero error line\n",
    "plt.xlabel(\"Predicted Values\")\n",
    "plt.ylabel(\"Residuals\")\n",
    "plt.title(\"Residuals vs Predicted Values\")\n",
    "plt.grid(True)\n",
    "plt.show()\n",
    "'''"
   ]
  },
  {
   "cell_type": "markdown",
   "id": "d0576bc0",
   "metadata": {},
   "source": [
    "Improved accuracy from R2 score 0.93 to 0.94"
   ]
  },
  {
   "cell_type": "markdown",
   "id": "c6a5b336",
   "metadata": {},
   "source": [
    "#  XGBoost + CATBoost using Stacking"
   ]
  },
  {
   "cell_type": "code",
   "execution_count": 19,
   "id": "0ef989b3",
   "metadata": {},
   "outputs": [
    {
     "name": "stderr",
     "output_type": "stream",
     "text": [
      "/home/happy/miniconda3/envs/myenv/lib/python3.10/site-packages/sklearn/ensemble/_stacking.py:1060: DataConversionWarning: A column-vector y was passed when a 1d array was expected. Please change the shape of y to (n_samples, ), for example using ravel().\n",
      "  y = column_or_1d(y, warn=True)\n"
     ]
    },
    {
     "name": "stdout",
     "output_type": "stream",
     "text": [
      "R² Score: 0.9475673460086793\n",
      "Root Mean Squared Error: 204.96617428440015\n"
     ]
    }
   ],
   "source": [
    "from xgboost import XGBRegressor\n",
    "from catboost import CatBoostRegressor\n",
    "from sklearn.model_selection import train_test_split\n",
    "from sklearn.metrics import root_mean_squared_error, r2_score\n",
    "from sklearn.linear_model import Ridge\n",
    "from sklearn.ensemble import StackingRegressor\n",
    "# Define and train the model\n",
    "xgb = XGBRegressor(\n",
    "    n_estimators=1600,\n",
    "    learning_rate=0.05,\n",
    "    max_depth=6,\n",
    "    subsample=0.8,\n",
    "    colsample_bytree=0.8,\n",
    "    random_state=42\n",
    ")\n",
    "cat = CatBoostRegressor(iterations=1600, learning_rate=0.05, verbose=0, random_state=42)\n",
    "meta = Ridge()\n",
    "\n",
    "stacked_model = StackingRegressor(estimators=[('xgb', xgb), ('cat', cat)], final_estimator=meta,passthrough=True)\n",
    "\n",
    "stacked_model.fit(x_train, y_train)\n",
    "y_pred = stacked_model.predict(x_test)\n",
    "\n",
    "# Evaluate\n",
    "rmse = root_mean_squared_error(y_test, y_pred)\n",
    "r2 = r2_score(y_test, y_pred)\n",
    "\n",
    "print(f\"R² Score: {r2}\")\n",
    "print(f\"Root Mean Squared Error: {rmse}\")"
   ]
  },
  {
   "cell_type": "code",
   "execution_count": null,
   "id": "4f347728",
   "metadata": {},
   "outputs": [
    {
     "data": {
      "image/png": "[encoded data removed]",
      "text/plain": [
       "<Figure size 640x480 with 1 Axes>"
      ]
     },
     "metadata": {},
     "output_type": "display_data"
    }
   ],
   "source": [
    "import matplotlib.pyplot as plt\n",
    "import numpy as np\n",
    "#scatter plot actual vs predicted\n",
    "y_test = np.ravel(y_test)\n",
    "y_pred = np.ravel(y_pred)\n",
    "plt.scatter(y_test, y_pred, color='blue', alpha=0.6)\n",
    "plt.plot([min(y_test), max(y_test)], [min(y_test), max(y_test)], 'r--')\n",
    "\n",
    "plt.xlabel('Actual')\n",
    "plt.ylabel('Predicted')\n",
    "plt.title('Stacked XGBoost+CATboost: Actual vs. Predicted Crop Yield')\n",
    "plt.grid(True)\n",
    "plt.show()\n"
   ]
  },
  {
   "cell_type": "code",
   "execution_count": 119,
   "id": "ee760730",
   "metadata": {},
   "outputs": [
    {
     "data": {
      "text/plain": [
       "['label_encoders.pkl']"
      ]
     },
     "execution_count": 119,
     "metadata": {},
     "output_type": "execute_result"
    }
   ],
   "source": [
    "import joblib\n",
    "\n",
    "# Save the trained Stacked model\n",
    "joblib.dump(stacked_model,'xgb_crop_model.pkl')\n",
    "\n",
    "# Save all encoders together in one file\n",
    "joblib.dump(label_encoders, 'label_encoders.pkl')\n"
   ]
  },
  {
   "cell_type": "code",
   "execution_count": null,
   "id": "628ba5fd",
   "metadata": {},
   "outputs": [],
   "source": [
    "import joblib Autumn      --> 0\n",
    "  Kharif      --> 1\n",
    "  Rabi        --> 2\n",
    "  Summer      --> 3\n",
    "  Whole Year  --> 4\n",
    "  Winter      --> 5\n",
    "import os\n",
    "\n",
    "# Ensure the save directory exists\n",
    "os.makedirs('xgb', exist_ok=True)\n",
    "\n",
    "# Save each encoder separately\n",
    "for col, le in label_encoders.items():\n",
    "    joblib.dump(le, f'xgb/{col}_encoder.pkl')\n"
   ]
  },
  {
   "cell_type": "code",
   "execution_count": null,
   "id": "243cd28e",
   "metadata": {},
   "outputs": [
    {
     "name": "stdout",
     "output_type": "stream",
     "text": [
      "✅ Encoders saved successfully.\n"
     ]
    }
   ],
   "source": [
    "# regenerate_encoders.py\n",
    "import joblib\n",
    "from sklearn.preprocessing import LabelEncoder\n",
    "\n",
    "# Full list of categories used in index.html\n",
    "\n",
    "crop_list = [ \"Arecanut\", \"Arhar/Tur\", \"Bajra\", \"Banana\", \"Barley\", \"Black pepper\", \"Cardamom\", \"Cashewnut\", \n",
    "              \"Castor seed\", \"Coconut\", \"Coriander\", \"Cotton(lint)\", \"Cowpea(Lobia)\", \"Dry chillies\", \"Garlic\",\n",
    "              \"Ginger\", \"Gram\", \"Groundnut\", \"Guar seed\", \"Horse-gram\", \"Jowar\", \"Jute\", \"Khesari\", \"Linseed\",\n",
    "              \"Maize\", \"Masoor\", \"Mesta\", \"Moong(Green Gram)\", \"Moth\", \"Niger seed\", \"Oilseeds total\", \"Onion\",\n",
    "              \"Other  Rabi pulses\", \"Other Cereals\", \"Other Kharif pulses\", \"Other Summer Pulses\",\n",
    "              \"Peas & beans (Pulses)\", \"Potato\", \"Ragi\", \"Rapeseed &Mustard\", \"Rice\", \"Safflower\", \"Sannhamp\",\n",
    "              \"Sesamum\", \"Small millets\", \"Soyabean\", \"Sugarcane\", \"Sunflower\", \"Sweet potato\", \"Tapioca\",\n",
    "              \"Tobacco\", \"Turmeric\", \"Urad\", \"Wheat\", \"other oilseeds\" ]\n",
    "\n",
    "season_list = [\"Autumn\", \"Kharif\", \"Rabi\", \"Summer\", \"Whole Year\", \"Winter\"]\n",
    "\n",
    "state_list = [ \"Andhra Pradesh\", \"Arunachal Pradesh\", \"Assam\", \"Bihar\", \"Chhattisgarh\", \"Delhi\", \"Goa\", \"Gujarat\",\n",
    "               \"Haryana\", \"Himachal Pradesh\", \"Jammu and Kashmir\", \"Jharkhand\", \"Karnataka\", \"Kerala\", \"Madhya Pradesh\",\n",
    "               \"Maharashtra\", \"Manipur\", \"Meghalaya\", \"Mizoram\", \"Nagaland\", \"Odisha\", \"Puducherry\", \"Punjab\",\n",
    "               \"Sikkim\", \"Tamil Nadu\", \"Telangana\", \"Tripura\", \"Uttar Pradesh\", \"Uttarakhand\", \"West Bengal\" ]\n",
    "\n",
    "# Create LabelEncoders\n",
    "crop_encoder = LabelEncoder()\n",
    "season_encoder = LabelEncoder()\n",
    "state_encoder = LabelEncoder()\n",
    "\n",
    "# Fit encoders\n",
    "crop_encoder.fit(crop_list)\n",
    "season_encoder.fit(season_list)\n",
    "state_encoder.fit(state_list)\n",
    "\n",
    "# Save them to disk\n",
    "joblib.dump(crop_encoder, r'D:\\Pr\\ojects\\Crop Prediction\\Crop Yield Prediction\\crop_yield_app\\models\\Crop_encoder.pkl')\n",
    "joblib.dump(season_encoder, r'D:\\Projects\\Crop Prediction\\Crop Yield Prediction\\crop_yield_app\\models\\Season_encoder.pkl')\n",
    "joblib.dump(state_encoder, r'D:\\Projects\\Crop Prediction\\Crop Yield Prediction\\crop_yield_app\\models\\State_encoder.pkl')\n",
    "\n",
    "print(\"✅ Encoders saved successfully.\")\n"
   ]
  },
  {
   "cell_type": "markdown",
   "id": "caafb45a",
   "metadata": {},
   "source": [
    "# LightGBM Regressor"
   ]
  },
  {
   "cell_type": "code",
   "execution_count": null,
   "id": "dadbeb1f",
   "metadata": {},
   "outputs": [
    {
     "data": {
      "text/plain": [
       "'import lightgbm as lgb\\n\\nfrom sklearn.metrics import root_mean_squared_error, r2_score\\n\\n# Create and train the model\\nlgb_model = lgb.LGBMRegressor(\\n    objective=\\'regression\\',\\n    boosting_type=\\'gbdt\\',\\n    num_leaves=31,\\n    learning_rate=0.05,\\n    n_estimators=300,\\n    random_state=42\\n)\\n\\nlgb_model.fit(x_train, y_train)\\n\\n# Make predictions\\ny_pred = lgb_model.predict(x_test)\\n\\n# Evaluate\\nr2 = r2_score(y_test, y_pred)\\nrmse = root_mean_squared_error(y_test, y_pred)\\n\\nprint(f\"R² Score: {r2}\")\\nprint(f\"Root Mean Squared Error: {rmse}\")\\n'"
      ]
     },
     "execution_count": 27,
     "metadata": {},
     "output_type": "execute_result"
    }
   ],
   "source": [
    "'''import lightgbm as lgb\n",
    "\n",
    "from sklearn.metrics import root_mean_squared_error, r2_score\n",
    "\n",
    "# Create and train the model\n",
    "lgb_model = lgb.LGBMRegressor(\n",
    "    objective='regression',\n",
    "    boosting_type='gbdt',\n",
    "    num_leaves=31,\n",
    "    learning_rate=0.05,\n",
    "    n_estimators=300,\n",
    "    random_state=42\n",
    ")\n",
    "\n",
    "lgb_model.fit(x_train, y_train)\n",
    "\n",
    "# Make predictions\n",
    "y_pred = lgb_model.predict(x_test)\n",
    "\n",
    "# Evaluate\n",
    "r2 = r2_score(y_test, y_pred)\n",
    "rmse = root_mean_squared_error(y_test, y_pred)\n",
    "\n",
    "print(f\"R² Score: {r2}\")\n",
    "print(f\"Root Mean Squared Error: {rmse}\")\n",
    "'''"
   ]
  }
 ],
 "metadata": {
  "kernelspec": {
   "display_name": "myenv",
   "language": "python",
   "name": "python3"
  },
  "language_info": {
   "codemirror_mode": {
    "name": "ipython",
    "version": 3
   },
   "file_extension": ".py",
   "mimetype": "text/x-python",
   "name": "python",
   "nbconvert_exporter": "python",
   "pygments_lexer": "ipython3",
   "version": "3.10.16"
  }
 },
 "nbformat": 4,
 "nbformat_minor": 5
}
